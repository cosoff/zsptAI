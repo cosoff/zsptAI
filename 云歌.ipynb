{
 "cells": [
  {
   "cell_type": "markdown",
   "id": "b7c985ea",
   "metadata": {},
   "source": [
    "# 云歌"
   ]
  },
  {
   "cell_type": "markdown",
   "id": "0c942e95",
   "metadata": {},
   "source": [
    "<!-- Configure and load Thebe !-->\n",
    "<script type=\"text/x-thebe-config\">\n",
    "  {\n",
    "    requestKernel: true,\n",
    "    binderOptions: {\n",
    "      repo: \"binder-examples/requirements\",\n",
    "    },\n",
    "  }\n",
    "</script>"
   ]
  },
  {
   "cell_type": "markdown",
   "id": "646070b6",
   "metadata": {},
   "source": [
    "<script src=\"https://unpkg.com/thebe@latest/lib/index.js\"></script>"
   ]
  },
  {
   "cell_type": "markdown",
   "id": "06da3022",
   "metadata": {},
   "source": [
    "<div class=\"thebe-activate\"></div>\n",
    "<div class=\"thebe-status\"></div>"
   ]
  },
  {
   "cell_type": "markdown",
   "id": "c816cb06",
   "metadata": {},
   "source": [
    "# 步骤1: 导入requests、json、time和random依赖库，参考代码。"
   ]
  },
  {
   "cell_type": "markdown",
   "id": "d61515f5",
   "metadata": {},
   "source": [
    "<pre data-executable=\"true\" data-language=\"python\">\n",
    "import requests\n",
    "import json\n",
    "import time\n",
    "import random\n",
    "</pre>"
   ]
  },
  {
   "cell_type": "markdown",
   "id": "2e6f16f9",
   "metadata": {},
   "source": [
    "# 步骤2 利用random函数和time方法创建一个随机字符串，用来区分每一次对话的对象。"
   ]
  },
  {
   "cell_type": "markdown",
   "id": "8412f569",
   "metadata": {},
   "source": [
    "<pre data-executable=\"true\" data-language=\"python\">\n",
    "random_str  =  str(time.time()+random.randint(0,100))\n",
    "print(random_str)\n",
    "</pre>"
   ]
  },
  {
   "cell_type": "markdown",
   "id": "4475863e",
   "metadata": {},
   "source": [
    "# 步骤3 定义一个函数xiaoxin，调用Yunge API，发送text，获得回复."
   ]
  },
  {
   "cell_type": "markdown",
   "id": "57b892cd",
   "metadata": {},
   "source": [
    "<pre data-executable=\"true\" data-language=\"python\">\n",
    "def xiaoxin(text):\n",
    "    res = ''\n",
    "    url = \"https://testapi.smartyg.com/api/post_gossip\"\n",
    "    keys = \"5f15a18f3f03f7e88020acb1c2f8c93c\"\n",
    "    result = requests.post(url, json.dumps(\n",
    "        {\"keys\": keys, \n",
    "        \"question\": text ,\n",
    "        \"id\":\"1\",\n",
    "        \"random_str\":randomstr,\"state\":True})).text\n",
    "    data = json.loads(result)\n",
    "    if data[\"flag\"] == \"success\":\n",
    "        res = data[\"answay\"]\n",
    "    return res\n",
    "</pre>"
   ]
  },
  {
   "cell_type": "markdown",
   "id": "3a3d81a5",
   "metadata": {},
   "source": [
    "# 步骤4 调用xiaoxin，创建闲聊机器人，为了不间断聊天，我们循环输入问题并调用xiaoxin，参考代码。"
   ]
  },
  {
   "cell_type": "markdown",
   "id": "c07de5af",
   "metadata": {},
   "source": [
    "<pre data-executable=\"true\" data-language=\"python\">\n",
    "while True:\n",
    "    question = input('我：')\n",
    "    answay = xiaoxing(question)\n",
    "    print('robot:'answay)\n",
    "</pre>"
   ]
  },
  {
   "cell_type": "code",
   "execution_count": null,
   "id": "bdd97d65",
   "metadata": {},
   "outputs": [],
   "source": []
  }
 ],
 "metadata": {
  "kernelspec": {
   "display_name": "Python 3 (ipykernel)",
   "language": "python",
   "name": "python3"
  },
  "language_info": {
   "codemirror_mode": {
    "name": "ipython",
    "version": 3
   },
   "file_extension": ".py",
   "mimetype": "text/x-python",
   "name": "python",
   "nbconvert_exporter": "python",
   "pygments_lexer": "ipython3",
   "version": "3.9.13"
  }
 },
 "nbformat": 4,
 "nbformat_minor": 5
}
