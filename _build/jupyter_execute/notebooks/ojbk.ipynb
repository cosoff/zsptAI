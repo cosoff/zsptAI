{
 "cells": [
  {
   "cell_type": "markdown",
   "id": "fb16b79a",
   "metadata": {},
   "source": [
    "# My Jupyter Notebook"
   ]
  },
  {
   "cell_type": "markdown",
   "id": "4831f416",
   "metadata": {},
   "source": [
    "```{python}\n",
    "print(6+6+6)"
   ]
  },
  {
   "cell_type": "code",
   "execution_count": null,
   "id": "4fac2cd7",
   "metadata": {},
   "outputs": [],
   "source": []
  }
 ],
 "metadata": {
  "kernelspec": {
   "display_name": "Python 3 (ipykernel)",
   "language": "python",
   "name": "python3"
  },
  "language_info": {
   "codemirror_mode": {
    "name": "ipython",
    "version": 3
   },
   "file_extension": ".py",
   "mimetype": "text/x-python",
   "name": "python",
   "nbconvert_exporter": "python",
   "pygments_lexer": "ipython3",
   "version": "3.9.13"
  }
 },
 "nbformat": 4,
 "nbformat_minor": 5
}