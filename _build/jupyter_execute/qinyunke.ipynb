{
 "cells": [
  {
   "cell_type": "markdown",
   "id": "b7c985ea",
   "metadata": {},
   "source": [
    "# 青云客与云歌"
   ]
  },
  {
   "cell_type": "code",
   "execution_count": 1,
   "id": "15b88fb6",
   "metadata": {},
   "outputs": [
    {
     "name": "stdout",
     "output_type": "stream",
     "text": [
      "1682774895.3709888\n"
     ]
    },
    {
     "ename": "StdinNotImplementedError",
     "evalue": "raw_input was called, but this frontend does not support input requests.",
     "output_type": "error",
     "traceback": [
      "\u001b[1;31m---------------------------------------------------------------------------\u001b[0m",
      "\u001b[1;31mStdinNotImplementedError\u001b[0m                  Traceback (most recent call last)",
      "Cell \u001b[1;32mIn[1], line 24\u001b[0m\n\u001b[0;32m     21\u001b[0m     \u001b[38;5;28;01mreturn\u001b[39;00m res\n\u001b[0;32m     23\u001b[0m \u001b[38;5;28;01mwhile\u001b[39;00m \u001b[38;5;28;01mTrue\u001b[39;00m:\n\u001b[1;32m---> 24\u001b[0m     question \u001b[38;5;241m=\u001b[39m \u001b[38;5;28;43minput\u001b[39;49m\u001b[43m(\u001b[49m\u001b[38;5;124;43m'\u001b[39;49m\u001b[38;5;124;43m我：\u001b[39;49m\u001b[38;5;124;43m'\u001b[39;49m\u001b[43m)\u001b[49m\n\u001b[0;32m     25\u001b[0m     answay \u001b[38;5;241m=\u001b[39m xiaoxin(question)\n\u001b[0;32m     26\u001b[0m     \u001b[38;5;28mprint\u001b[39m(\u001b[38;5;124m'\u001b[39m\u001b[38;5;124mrobot:\u001b[39m\u001b[38;5;124m'\u001b[39m,answay)\n",
      "File \u001b[1;32mE:\\ANACONDA\\lib\\site-packages\\ipykernel\\kernelbase.py:1172\u001b[0m, in \u001b[0;36mKernel.raw_input\u001b[1;34m(self, prompt)\u001b[0m\n\u001b[0;32m   1165\u001b[0m \u001b[38;5;124;03m\"\"\"Forward raw_input to frontends\u001b[39;00m\n\u001b[0;32m   1166\u001b[0m \n\u001b[0;32m   1167\u001b[0m \u001b[38;5;124;03mRaises\u001b[39;00m\n\u001b[0;32m   1168\u001b[0m \u001b[38;5;124;03m------\u001b[39;00m\n\u001b[0;32m   1169\u001b[0m \u001b[38;5;124;03mStdinNotImplementedError if active frontend doesn't support stdin.\u001b[39;00m\n\u001b[0;32m   1170\u001b[0m \u001b[38;5;124;03m\"\"\"\u001b[39;00m\n\u001b[0;32m   1171\u001b[0m \u001b[38;5;28;01mif\u001b[39;00m \u001b[38;5;129;01mnot\u001b[39;00m \u001b[38;5;28mself\u001b[39m\u001b[38;5;241m.\u001b[39m_allow_stdin:\n\u001b[1;32m-> 1172\u001b[0m     \u001b[38;5;28;01mraise\u001b[39;00m StdinNotImplementedError(\n\u001b[0;32m   1173\u001b[0m         \u001b[38;5;124m\"\u001b[39m\u001b[38;5;124mraw_input was called, but this frontend does not support input requests.\u001b[39m\u001b[38;5;124m\"\u001b[39m\n\u001b[0;32m   1174\u001b[0m     )\n\u001b[0;32m   1175\u001b[0m \u001b[38;5;28;01mreturn\u001b[39;00m \u001b[38;5;28mself\u001b[39m\u001b[38;5;241m.\u001b[39m_input_request(\n\u001b[0;32m   1176\u001b[0m     \u001b[38;5;28mstr\u001b[39m(prompt),\n\u001b[0;32m   1177\u001b[0m     \u001b[38;5;28mself\u001b[39m\u001b[38;5;241m.\u001b[39m_parent_ident[\u001b[38;5;124m\"\u001b[39m\u001b[38;5;124mshell\u001b[39m\u001b[38;5;124m\"\u001b[39m],\n\u001b[0;32m   1178\u001b[0m     \u001b[38;5;28mself\u001b[39m\u001b[38;5;241m.\u001b[39mget_parent(\u001b[38;5;124m\"\u001b[39m\u001b[38;5;124mshell\u001b[39m\u001b[38;5;124m\"\u001b[39m),\n\u001b[0;32m   1179\u001b[0m     password\u001b[38;5;241m=\u001b[39m\u001b[38;5;28;01mFalse\u001b[39;00m,\n\u001b[0;32m   1180\u001b[0m )\n",
      "\u001b[1;31mStdinNotImplementedError\u001b[0m: raw_input was called, but this frontend does not support input requests."
     ]
    }
   ],
   "source": [
    "import requests\n",
    "import json\n",
    "import time\n",
    "import random\n",
    "\n",
    "random_str  =  str(time.time()+random.randint(0,100))\n",
    "print(random_str)\n",
    "\n",
    "def xiaoxin(text):\n",
    "    res = ''\n",
    "    url = \"https://testapi.smartyg.com/api/post_gossip\"\n",
    "    keys = \"5f15a18f3f03f7e88020acb1c2f8c93c\"\n",
    "    result = requests.post(url, json.dumps(\n",
    "        {\"keys\": keys, \n",
    "        \"question\": text ,\n",
    "        \"id\":\"1\",\n",
    "        \"random_str\":random_str,\"state\":False})).text\n",
    "    data = json.loads(result)\n",
    "    if data[\"flag\"] == \"success\":\n",
    "        res = data[\"answay\"]\n",
    "    return res\n",
    "\n",
    "while True:\n",
    "    question = input('我：')\n",
    "    answay = xiaoxin(question)\n",
    "    print('robot:',answay)"
   ]
  },
  {
   "cell_type": "code",
   "execution_count": 2,
   "id": "78ddf762",
   "metadata": {},
   "outputs": [
    {
     "name": "stdout",
     "output_type": "stream",
     "text": [
      "1682759506.896952\n"
     ]
    }
   ],
   "source": [
    "random_str=str(time.time()+random.randint(0,100))\n",
    "print(random_str)"
   ]
  },
  {
   "cell_type": "code",
   "execution_count": 3,
   "id": "d8c31d8d",
   "metadata": {},
   "outputs": [],
   "source": [
    "def xiaoxin(text):\n",
    "    res = ''\n",
    "    url = \"https://testapi.smartyg.com/api/post_gossip\"\n",
    "    keys = \"5f15a18f3f03f7e88020acb1c2f8c93c\"\n",
    "    result = requests.post(url, json.dumps(\n",
    "        {\"keys\": keys, \n",
    "        \"question\": text ,\n",
    "        \"id\":\"1\",\n",
    "        \"random_str\":randomstr,\"state\":True})).text\n",
    "    data = json.loads(result)\n",
    "    if data[\"flag\"] == \"success\":\n",
    "        res = data[\"answay\"]\n",
    "    return res"
   ]
  },
  {
   "cell_type": "code",
   "execution_count": 6,
   "id": "a9e6ef37",
   "metadata": {},
   "outputs": [
    {
     "name": "stdout",
     "output_type": "stream",
     "text": [
      "我：你好\n"
     ]
    },
    {
     "ename": "NameError",
     "evalue": "name 'randomstr' is not defined",
     "output_type": "error",
     "traceback": [
      "\u001b[1;31m---------------------------------------------------------------------------\u001b[0m",
      "\u001b[1;31mNameError\u001b[0m                                 Traceback (most recent call last)",
      "Cell \u001b[1;32mIn[6], line 3\u001b[0m\n\u001b[0;32m      1\u001b[0m \u001b[38;5;28;01mwhile\u001b[39;00m \u001b[38;5;28;01mTrue\u001b[39;00m:\n\u001b[0;32m      2\u001b[0m     question \u001b[38;5;241m=\u001b[39m \u001b[38;5;28minput\u001b[39m(\u001b[38;5;124m'\u001b[39m\u001b[38;5;124m我：\u001b[39m\u001b[38;5;124m'\u001b[39m)\n\u001b[1;32m----> 3\u001b[0m     answay \u001b[38;5;241m=\u001b[39m \u001b[43mxiaoxin\u001b[49m\u001b[43m(\u001b[49m\u001b[43mquestion\u001b[49m\u001b[43m)\u001b[49m\n\u001b[0;32m      4\u001b[0m     \u001b[38;5;28mprint\u001b[39m(\u001b[38;5;124m'\u001b[39m\u001b[38;5;124mrobot:\u001b[39m\u001b[38;5;124m'\u001b[39m,answay)\n",
      "Cell \u001b[1;32mIn[3], line 9\u001b[0m, in \u001b[0;36mxiaoxin\u001b[1;34m(text)\u001b[0m\n\u001b[0;32m      3\u001b[0m url \u001b[38;5;241m=\u001b[39m \u001b[38;5;124m\"\u001b[39m\u001b[38;5;124mhttps://testapi.smartyg.com/api/post_gossip\u001b[39m\u001b[38;5;124m\"\u001b[39m\n\u001b[0;32m      4\u001b[0m keys \u001b[38;5;241m=\u001b[39m \u001b[38;5;124m\"\u001b[39m\u001b[38;5;124m5f15a18f3f03f7e88020acb1c2f8c93c\u001b[39m\u001b[38;5;124m\"\u001b[39m\n\u001b[0;32m      5\u001b[0m result \u001b[38;5;241m=\u001b[39m requests\u001b[38;5;241m.\u001b[39mpost(url, json\u001b[38;5;241m.\u001b[39mdumps(\n\u001b[0;32m      6\u001b[0m     {\u001b[38;5;124m\"\u001b[39m\u001b[38;5;124mkeys\u001b[39m\u001b[38;5;124m\"\u001b[39m: keys, \n\u001b[0;32m      7\u001b[0m     \u001b[38;5;124m\"\u001b[39m\u001b[38;5;124mquestion\u001b[39m\u001b[38;5;124m\"\u001b[39m: text ,\n\u001b[0;32m      8\u001b[0m     \u001b[38;5;124m\"\u001b[39m\u001b[38;5;124mid\u001b[39m\u001b[38;5;124m\"\u001b[39m:\u001b[38;5;124m\"\u001b[39m\u001b[38;5;124m1\u001b[39m\u001b[38;5;124m\"\u001b[39m,\n\u001b[1;32m----> 9\u001b[0m     \u001b[38;5;124m\"\u001b[39m\u001b[38;5;124mrandom_str\u001b[39m\u001b[38;5;124m\"\u001b[39m:\u001b[43mrandomstr\u001b[49m,\u001b[38;5;124m\"\u001b[39m\u001b[38;5;124mstate\u001b[39m\u001b[38;5;124m\"\u001b[39m:\u001b[38;5;28;01mTrue\u001b[39;00m}))\u001b[38;5;241m.\u001b[39mtext\n\u001b[0;32m     10\u001b[0m data \u001b[38;5;241m=\u001b[39m json\u001b[38;5;241m.\u001b[39mloads(result)\n\u001b[0;32m     11\u001b[0m \u001b[38;5;28;01mif\u001b[39;00m data[\u001b[38;5;124m\"\u001b[39m\u001b[38;5;124mflag\u001b[39m\u001b[38;5;124m\"\u001b[39m] \u001b[38;5;241m==\u001b[39m \u001b[38;5;124m\"\u001b[39m\u001b[38;5;124msuccess\u001b[39m\u001b[38;5;124m\"\u001b[39m:\n",
      "\u001b[1;31mNameError\u001b[0m: name 'randomstr' is not defined"
     ]
    }
   ],
   "source": [
    "while True:\n",
    "    question = input('我：')\n",
    "    answay = xiaoxin(question)\n",
    "    print('robot:',answay)"
   ]
  },
  {
   "cell_type": "markdown",
   "id": "192b839d",
   "metadata": {},
   "source": [
    "# -*- coding: utf-8 -*-\n",
    "\"\"\"\n",
    "Created on Fri Apr 22 09:35:15 2022\n",
    "\n",
    "@author: Administrator\n",
    "\"\"\"\n",
    "```{python}\n",
    "import requests\n",
    "import json\n",
    "\n",
    "if __name__ == '__main__':\n",
    "    while True:\n",
    "        text = input(\"你说的：\")\n",
    "        \n",
    "        if text == '再见':\n",
    "            print()\n",
    "            break\n",
    "        else:\n",
    "            url = 'http://api.qingyunke.com/api.php?key=free&appid=0&msg=%s'%text\n",
    "            header = {\n",
    "                'user-agent':'Mozilla/5.0 (Windows NT 10.0; WOW64) AppleWebKit/537.36 (KHTML, like Gecko) Chrome/100.0.4896.127 Safari/537.36'\n",
    "            }\n",
    "            response = requests.get(url, headers = header)\n",
    "            response.encoding = 'utf-8'\n",
    "            text_json = json.loads(response.text)\n",
    "            context = \"菲菲说：%s\"%text_json['content']\n",
    "            print(context)"
   ]
  },
  {
   "cell_type": "code",
   "execution_count": null,
   "id": "94addb3d",
   "metadata": {},
   "outputs": [],
   "source": []
  }
 ],
 "metadata": {
  "kernelspec": {
   "display_name": "Python 3 (ipykernel)",
   "language": "python",
   "name": "python3"
  },
  "language_info": {
   "codemirror_mode": {
    "name": "ipython",
    "version": 3
   },
   "file_extension": ".py",
   "mimetype": "text/x-python",
   "name": "python",
   "nbconvert_exporter": "python",
   "pygments_lexer": "ipython3",
   "version": "3.9.13"
  }
 },
 "nbformat": 4,
 "nbformat_minor": 5
}