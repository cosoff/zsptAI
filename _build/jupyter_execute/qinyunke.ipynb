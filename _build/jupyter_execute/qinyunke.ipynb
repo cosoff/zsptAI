{
 "cells": [
  {
   "cell_type": "markdown",
   "id": "b7c985ea",
   "metadata": {},
   "source": [
    "# 青云客与云歌"
   ]
  },
  {
   "cell_type": "markdown",
   "id": "693783cf",
   "metadata": {},
   "source": [
    "<!-- Configure and load Thebe !-->\n",
    "<script type=\"text/x-thebe-config\">\n",
    "  {\n",
    "      requestKernel: true,\n",
    "      mountActivateWidget: true,\n",
    "      mountStatusWidget: true,\n",
    "      binderOptions: {\n",
    "      repo: \"binder-examples/requirements\",\n",
    "      },\n",
    "  }\n",
    "</script>"
   ]
  },
  {
   "cell_type": "markdown",
   "id": "fab12c90",
   "metadata": {},
   "source": [
    "<script src=\"https://unpkg.com/thebe@latest/lib/index.js\"></script>"
   ]
  },
  {
   "cell_type": "markdown",
   "id": "b461d3f6",
   "metadata": {},
   "source": [
    "<div class=\"thebe-activate\"></div>\n",
    "<div class=\"thebe-status\"></div>"
   ]
  },
  {
   "cell_type": "markdown",
   "id": "499b4684",
   "metadata": {},
   "source": [
    "<pre data-executable=\"true\" data-language=\"python\">print(\"Hello!\")</pre>"
   ]
  },
  {
   "cell_type": "code",
   "execution_count": null,
   "id": "1d41360b",
   "metadata": {},
   "outputs": [],
   "source": []
  }
 ],
 "metadata": {
  "kernelspec": {
   "display_name": "Python 3 (ipykernel)",
   "language": "python",
   "name": "python3"
  },
  "language_info": {
   "codemirror_mode": {
    "name": "ipython",
    "version": 3
   },
   "file_extension": ".py",
   "mimetype": "text/x-python",
   "name": "python",
   "nbconvert_exporter": "python",
   "pygments_lexer": "ipython3",
   "version": "3.9.13"
  }
 },
 "nbformat": 4,
 "nbformat_minor": 5
}