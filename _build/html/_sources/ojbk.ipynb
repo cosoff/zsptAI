{
 "cells": [
  {
   "cell_type": "markdown",
   "id": "fb16b79a",
   "metadata": {},
   "source": [
    "# My Jupyter Notebook"
   ]
  },
  {
   "cell_type": "markdown",
   "id": "39b77991",
   "metadata": {},
   "source": [
    "Here is a code cell that will run when the button is clicked:\n",
    "\n",
    "```{python}\n",
    "# Your code here\n",
    "print(\"Hello, world!\")\n"
   ]
  },
  {
   "cell_type": "code",
   "execution_count": null,
   "id": "afef7407",
   "metadata": {},
   "outputs": [],
   "source": [
    "from ipywidgets import widgets\n",
    "\n",
    "button = widgets.Button(description=\"计算结果\")\n",
    "output = widgets.Output()\n",
    "\n",
    "def on_button_click(b):\n",
    "    with output:\n",
    "        print(6+6+6)\n",
    "\n",
    "button.on_click(on_button_click)\n",
    "\n",
    "widgets.VBox([button, output])\n"
   ]
  }
 ],
 "metadata": {
  "kernelspec": {
   "display_name": "Python 3 (ipykernel)",
   "language": "python",
   "name": "python3"
  },
  "language_info": {
   "codemirror_mode": {
    "name": "ipython",
    "version": 3
   },
   "file_extension": ".py",
   "mimetype": "text/x-python",
   "name": "python",
   "nbconvert_exporter": "python",
   "pygments_lexer": "ipython3",
   "version": "3.9.13"
  }
 },
 "nbformat": 4,
 "nbformat_minor": 5
}
