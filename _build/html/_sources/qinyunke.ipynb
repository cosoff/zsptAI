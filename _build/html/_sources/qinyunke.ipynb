{
 "cells": [
  {
   "cell_type": "markdown",
   "id": "b7c985ea",
   "metadata": {},
   "source": [
    "# 青云客与云歌"
   ]
  },
  {
   "cell_type": "code",
   "execution_count": null,
   "id": "e80667f2",
   "metadata": {},
   "outputs": [],
   "source": [
    "```{code-cell} ipython\n",
    "import requests\n",
    "import json\n",
    "\n",
    "if __name__ == '__main__':\n",
    "    while True:\n",
    "        text = input(\"你说的：\")\n",
    "        \n",
    "        if text == '再见':\n",
    "            print()\n",
    "            break\n",
    "        else:\n",
    "            url = 'http://api.qingyunke.com/api.php?key=free&appid=0&msg=%s'%text\n",
    "            header = {\n",
    "                'user-agent':'Mozilla/5.0 (Windows NT 10.0; WOW64) AppleWebKit/537.36 (KHTML, like Gecko) Chrome/100.0.4896.127 Safari/537.36'\n",
    "            }\n",
    "            response = requests.get(url, headers = header)\n",
    "            response.encoding = 'utf-8'\n",
    "            text_json = json.loads(response.text)\n",
    "            context = \"菲菲说：%s\"%text_json['content']\n",
    "            print(context)\n",
    "```"
   ]
  },
  {
   "cell_type": "raw",
   "id": "1cfa2c0b",
   "metadata": {},
   "source": []
  }
 ],
 "metadata": {
  "kernelspec": {
   "display_name": "Python 3 (ipykernel)",
   "language": "python",
   "name": "python3"
  },
  "language_info": {
   "codemirror_mode": {
    "name": "ipython",
    "version": 3
   },
   "file_extension": ".py",
   "mimetype": "text/x-python",
   "name": "python",
   "nbconvert_exporter": "python",
   "pygments_lexer": "ipython3",
   "version": "3.9.13"
  }
 },
 "nbformat": 4,
 "nbformat_minor": 5
}
