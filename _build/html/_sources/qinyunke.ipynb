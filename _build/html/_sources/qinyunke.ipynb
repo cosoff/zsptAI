{
 "cells": [
  {
   "cell_type": "markdown",
   "id": "b7c985ea",
   "metadata": {},
   "source": [
    "# 青云客与云歌"
   ]
  },
  {
   "cell_type": "code",
   "execution_count": null,
   "id": "e80667f2",
   "metadata": {},
   "outputs": [],
   "source": [
    "import numpy as np\n",
    "import matplotlib.pyplot as plt\n",
    "plt.ion()\n",
    "\n",
    "x = np.arange(500)\n",
    "y = np.random.randn(500)\n",
    "\n",
    "fig, ax = plt.subplots()\n",
    "ax.scatter(x, y, c=y, s=x)"
   ]
  },
  {
   "cell_type": "raw",
   "id": "1cfa2c0b",
   "metadata": {},
   "source": []
  }
 ],
 "metadata": {
  "kernelspec": {
   "display_name": "Python 3 (ipykernel)",
   "language": "python",
   "name": "python3"
  },
  "language_info": {
   "codemirror_mode": {
    "name": "ipython",
    "version": 3
   },
   "file_extension": ".py",
   "mimetype": "text/x-python",
   "name": "python",
   "nbconvert_exporter": "python",
   "pygments_lexer": "ipython3",
   "version": "3.9.13"
  }
 },
 "nbformat": 4,
 "nbformat_minor": 5
}
